{
  "cells": [
    {
      "cell_type": "markdown",
      "metadata": {
        "colab_type": "text",
        "id": "view-in-github"
      },
      "source": [
        "<a href=\"https://colab.research.google.com/github/Nuclei-7/FirstMachineLearningModel/blob/main/imageCNN.ipynb\" target=\"_parent\"><img src=\"https://colab.research.google.com/assets/colab-badge.svg\" alt=\"Open In Colab\"/></a>"
      ]
    },
    {
      "cell_type": "markdown",
      "metadata": {
        "id": "Bw_uXo0J6Tnr"
      },
      "source": [
        "# 1. Install Dependencies and Setup"
      ]
    },
    {
      "cell_type": "code",
      "execution_count": null,
      "metadata": {
        "colab": {
          "base_uri": "https://localhost:8080/"
        },
        "id": "CXj0GdQWmhvV",
        "outputId": "c037a5ab-b375-4d71-cab5-f77ba8d8b7e0"
      },
      "outputs": [],
      "source": [
        "!pip install tensorflow opencv-python matplotlib"
      ]
    },
    {
      "cell_type": "code",
      "execution_count": null,
      "metadata": {
        "colab": {
          "base_uri": "https://localhost:8080/"
        },
        "id": "NaxuZAqOmrHX",
        "outputId": "9e836a11-c280-45d5-fc72-791df5c39b02"
      },
      "outputs": [],
      "source": [
        "!pip list"
      ]
    },
    {
      "cell_type": "code",
      "execution_count": 25,
      "metadata": {
        "id": "A1ww6eQ7mtLK"
      },
      "outputs": [],
      "source": [
        "import tensorflow as tf\n",
        "import os"
      ]
    },
    {
      "cell_type": "code",
      "execution_count": 26,
      "metadata": {
        "id": "jrha4zzUmupp"
      },
      "outputs": [],
      "source": [
        "# Avoid OOM errors by setting GPU Memory Consumption Growth\n",
        "gpus = tf.config.experimental.list_physical_devices('GPU')\n",
        "for gpu in gpus:\n",
        "    tf.config.experimental.set_memory_growth(gpu, True)"
      ]
    },
    {
      "cell_type": "code",
      "execution_count": null,
      "metadata": {
        "colab": {
          "base_uri": "https://localhost:8080/"
        },
        "id": "mlRIXVowm42e",
        "outputId": "11ed04c4-03b2-4ba8-83b6-ffabbb488052"
      },
      "outputs": [],
      "source": [
        "tf.config.list_physical_devices('GPU')"
      ]
    },
    {
      "cell_type": "markdown",
      "metadata": {
        "id": "zSIC4cJR6eTL"
      },
      "source": [
        "# 2. Remove dodgy images"
      ]
    },
    {
      "cell_type": "code",
      "execution_count": null,
      "metadata": {
        "colab": {
          "base_uri": "https://localhost:8080/"
        },
        "id": "-1q0rT6um715",
        "outputId": "f4836e37-8250-4ffb-a67f-7cd44fe5ab22"
      },
      "outputs": [],
      "source": [
        "!git clone https://github.com/ThunderE75/CNN-ImageClassification.git"
      ]
    },
    {
      "cell_type": "code",
      "execution_count": 29,
      "metadata": {
        "id": "EHsN_RuPm-Fz"
      },
      "outputs": [],
      "source": [
        "data_dir = '/content/CNN/data'"
      ]
    },
    {
      "cell_type": "code",
      "execution_count": 30,
      "metadata": {
        "id": "PuyHt7A_m__L"
      },
      "outputs": [],
      "source": [
        "import os\n",
        "import cv2\n",
        "import imghdr\n",
        "\n",
        "# Set data directory\n",
        "data_dir = '/content/CNN/data'\n",
        "\n",
        "# Supported image extensions\n",
        "image_exts = ['jpeg', 'jpg', 'png', 'bmp']\n",
        "\n",
        "# Iterate over the classes (folders) and images\n",
        "for image_class in os.listdir(data_dir):\n",
        "    class_dir = os.path.join(data_dir, image_class)\n",
        "\n",
        "    # Check if it's a directory\n",
        "    if os.path.isdir(class_dir):\n",
        "        for image in os.listdir(class_dir):\n",
        "            image_path = os.path.join(class_dir, image)\n",
        "            try:\n",
        "                # Read image and check extension\n",
        "                img = cv2.imread(image_path)\n",
        "                tip = imghdr.what(image_path)\n",
        "\n",
        "                # Check if the file has a valid image extension\n",
        "                if tip not in image_exts:\n",
        "                    print('Image not in ext list {}'.format(image_path))\n",
        "                    os.remove(image_path)\n",
        "            except Exception as e:\n",
        "                print('Issue with image {}'.format(image_path))\n",
        "                # os.remove(image_path)  # Uncomment if you want to delete corrupted files\n"
      ]
    },
    {
      "cell_type": "markdown",
      "metadata": {
        "id": "t8cEpR-k6ine"
      },
      "source": [
        "# 3. Load Data"
      ]
    },
    {
      "cell_type": "code",
      "execution_count": 31,
      "metadata": {
        "id": "V3Sp_McGnQQm"
      },
      "outputs": [],
      "source": [
        "import numpy as np\n",
        "from matplotlib import pyplot as plt"
      ]
    },
    {
      "cell_type": "code",
      "execution_count": null,
      "metadata": {
        "colab": {
          "base_uri": "https://localhost:8080/"
        },
        "id": "Aau7bzoWnSF3",
        "outputId": "3bd22a76-b299-406e-d10d-3211960f8f86"
      },
      "outputs": [],
      "source": [
        "data = tf.keras.utils.image_dataset_from_directory(data_dir)"
      ]
    },
    {
      "cell_type": "code",
      "execution_count": 34,
      "metadata": {
        "id": "9gfiHi6Mo_lQ"
      },
      "outputs": [],
      "source": [
        "data_iterator = data.as_numpy_iterator()"
      ]
    },
    {
      "cell_type": "code",
      "execution_count": 35,
      "metadata": {
        "id": "rut4dZRjo_-Z"
      },
      "outputs": [],
      "source": [
        "batch = data_iterator.next()"
      ]
    },
    {
      "cell_type": "code",
      "execution_count": null,
      "metadata": {
        "colab": {
          "base_uri": "https://localhost:8080/",
          "height": 379
        },
        "id": "mbSoo4oppBmu",
        "outputId": "48e1462d-5a54-407f-8988-53de9139bbb8"
      },
      "outputs": [],
      "source": [
        "fig, ax = plt.subplots(ncols=4, figsize=(20,20))\n",
        "for idx, img in enumerate(batch[0][:4]):\n",
        "    ax[idx].imshow(img.astype(int))\n",
        "    ax[idx].title.set_text(batch[1][idx])"
      ]
    },
    {
      "cell_type": "markdown",
      "metadata": {
        "id": "UNZfpY6hpGIL"
      },
      "source": [
        "# 4. Scale Data"
      ]
    },
    {
      "cell_type": "code",
      "execution_count": 37,
      "metadata": {
        "id": "wt57hrXOpJLd"
      },
      "outputs": [],
      "source": [
        "data = data.map(lambda x,y: (x/255, y))"
      ]
    },
    {
      "cell_type": "code",
      "execution_count": null,
      "metadata": {
        "colab": {
          "base_uri": "https://localhost:8080/"
        },
        "id": "ULQTBFqqpK9M",
        "outputId": "338bba61-61ba-49c6-b03b-47b81bb6a53c"
      },
      "outputs": [],
      "source": [
        "data.as_numpy_iterator().next()"
      ]
    },
    {
      "cell_type": "markdown",
      "metadata": {
        "id": "jjeirzbdpN4B"
      },
      "source": [
        "# 5. Split Data"
      ]
    },
    {
      "cell_type": "code",
      "execution_count": 39,
      "metadata": {
        "id": "Dew1ermHpR2u"
      },
      "outputs": [],
      "source": [
        "train_size = int(len(data)*.7)\n",
        "val_size = int(len(data)*.2)\n",
        "test_size = int(len(data)*.1)"
      ]
    },
    {
      "cell_type": "code",
      "execution_count": null,
      "metadata": {
        "colab": {
          "base_uri": "https://localhost:8080/"
        },
        "id": "qsIGeVQCpTky",
        "outputId": "2a506455-6ee1-416a-e711-6d4ba1b90fad"
      },
      "outputs": [],
      "source": [
        "train_size"
      ]
    },
    {
      "cell_type": "code",
      "execution_count": 41,
      "metadata": {
        "id": "9ewmSSuUpVNb"
      },
      "outputs": [],
      "source": [
        "train = data.take(train_size)\n",
        "val = data.skip(train_size).take(val_size)\n",
        "test = data.skip(train_size+val_size).take(test_size)"
      ]
    },
    {
      "cell_type": "markdown",
      "metadata": {
        "id": "VdgpMzSBpZOc"
      },
      "source": [
        "# 6. Build Deep Learning"
      ]
    },
    {
      "cell_type": "code",
      "execution_count": null,
      "metadata": {
        "colab": {
          "base_uri": "https://localhost:8080/"
        },
        "id": "9_oPqaa9pdhB",
        "outputId": "e495495a-7cfa-45fa-8e93-a205d3e9e3cb"
      },
      "outputs": [],
      "source": [
        "train"
      ]
    },
    {
      "cell_type": "code",
      "execution_count": 43,
      "metadata": {
        "id": "B6J7GDskpfOe"
      },
      "outputs": [],
      "source": [
        "from tensorflow.keras.models import Sequential\n",
        "from tensorflow.keras.layers import Conv2D, MaxPooling2D, Dense, Flatten, Dropout"
      ]
    },
    {
      "cell_type": "code",
      "execution_count": 44,
      "metadata": {
        "id": "KqGPnTSFphOQ"
      },
      "outputs": [],
      "source": [
        "model = Sequential()"
      ]
    },
    {
      "cell_type": "code",
      "execution_count": null,
      "metadata": {
        "colab": {
          "base_uri": "https://localhost:8080/"
        },
        "id": "3JYEEQB-pjCY",
        "outputId": "0d947061-a610-4835-8352-09f888b47e16"
      },
      "outputs": [],
      "source": [
        "model.add(Conv2D(16, (3,3), 1, activation='relu', input_shape=(256,256,3)))\n",
        "model.add(MaxPooling2D())\n",
        "model.add(Conv2D(32, (3,3), 1, activation='relu'))\n",
        "model.add(MaxPooling2D())\n",
        "model.add(Conv2D(16, (3,3), 1, activation='relu'))\n",
        "model.add(MaxPooling2D())\n",
        "model.add(Flatten())\n",
        "model.add(Dense(256, activation='relu'))\n",
        "model.add(Dense(1, activation='sigmoid'))"
      ]
    },
    {
      "cell_type": "code",
      "execution_count": 46,
      "metadata": {
        "id": "jpy926ezpkjG"
      },
      "outputs": [],
      "source": [
        "model.compile('adam', loss=tf.losses.BinaryCrossentropy(), metrics=['accuracy'])"
      ]
    },
    {
      "cell_type": "code",
      "execution_count": null,
      "metadata": {
        "colab": {
          "base_uri": "https://localhost:8080/",
          "height": 442
        },
        "id": "aN-ydekipmS1",
        "outputId": "3b51916e-5eed-4db1-cf2b-e0906668c678"
      },
      "outputs": [],
      "source": [
        "model.summary()"
      ]
    },
    {
      "cell_type": "markdown",
      "metadata": {
        "id": "d7M2j-prprzJ"
      },
      "source": [
        "# 7. Training"
      ]
    },
    {
      "cell_type": "code",
      "execution_count": 48,
      "metadata": {
        "id": "zFFUH546p1kS"
      },
      "outputs": [],
      "source": [
        "logdir='logs'"
      ]
    },
    {
      "cell_type": "code",
      "execution_count": 49,
      "metadata": {
        "id": "j1ZBbWYNp3a6"
      },
      "outputs": [],
      "source": [
        "tensorboard_callback = tf.keras.callbacks.TensorBoard(log_dir=logdir)"
      ]
    },
    {
      "cell_type": "code",
      "execution_count": null,
      "metadata": {
        "colab": {
          "base_uri": "https://localhost:8080/"
        },
        "id": "_pYmoh7Op5RQ",
        "outputId": "8f2b2097-cdba-40de-f18e-d8d7cb379024"
      },
      "outputs": [],
      "source": [
        "hist = model.fit(train, epochs=20, validation_data=val, callbacks=[tensorboard_callback])"
      ]
    },
    {
      "cell_type": "markdown",
      "metadata": {
        "id": "8K41mew5voku"
      },
      "source": [
        "# 8. plot performence"
      ]
    },
    {
      "cell_type": "code",
      "execution_count": null,
      "metadata": {
        "colab": {
          "base_uri": "https://localhost:8080/",
          "height": 478
        },
        "id": "XF_P0Aihvm7l",
        "outputId": "4ead59f0-7c94-478c-ad23-abd5d682d69c"
      },
      "outputs": [],
      "source": [
        "fig = plt.figure()\n",
        "plt.plot(hist.history['loss'], color='red', label='loss')\n",
        "plt.plot(hist.history['val_loss'], color='blue', label='val_loss')\n",
        "fig.suptitle('Loss', fontsize=18)\n",
        "plt.legend(loc=\"upper rigt\")\n",
        "plt.show()"
      ]
    },
    {
      "cell_type": "code",
      "execution_count": null,
      "metadata": {
        "colab": {
          "base_uri": "https://localhost:8080/",
          "height": 478
        },
        "id": "njAXQ7atvr5U",
        "outputId": "0e2edd2d-867f-4cd9-86bf-3e0c97b40781"
      },
      "outputs": [],
      "source": [
        "fig = plt.figure()\n",
        "plt.plot(hist.history['accuracy'], color='green', label='accuracy')\n",
        "plt.plot(hist.history['val_accuracy'], color='orange', label='val_accuracy')\n",
        "fig.suptitle('Accuracy', fontsize=20)\n",
        "plt.legend(loc=\"upper left\")\n",
        "plt.show()"
      ]
    },
    {
      "cell_type": "markdown",
      "metadata": {
        "id": "FtRoYf5IvyzU"
      },
      "source": [
        "# 9. Evaluation"
      ]
    },
    {
      "cell_type": "code",
      "execution_count": 54,
      "metadata": {
        "id": "GMVYfLz_v4Sr"
      },
      "outputs": [],
      "source": [
        "from tensorflow.keras.metrics import Precision, Recall, BinaryAccuracy"
      ]
    },
    {
      "cell_type": "code",
      "execution_count": 55,
      "metadata": {
        "id": "lEit_zRwv5jB"
      },
      "outputs": [],
      "source": [
        "pre = Precision()\n",
        "re = Recall()\n",
        "acc = BinaryAccuracy()"
      ]
    },
    {
      "cell_type": "code",
      "execution_count": null,
      "metadata": {
        "colab": {
          "base_uri": "https://localhost:8080/"
        },
        "id": "uULOU4RGv6ql",
        "outputId": "fc3e9bed-53e1-4123-bd77-e611744f1f8c"
      },
      "outputs": [],
      "source": [
        "for batch in test.as_numpy_iterator():\n",
        "    X, y = batch\n",
        "    yhat = model.predict(X)\n",
        "    pre.update_state(y, yhat)\n",
        "    re.update_state(y, yhat)\n",
        "    acc.update_state(y, yhat)"
      ]
    },
    {
      "cell_type": "code",
      "execution_count": null,
      "metadata": {
        "colab": {
          "base_uri": "https://localhost:8080/"
        },
        "id": "E3_W1b7Cv8Pi",
        "outputId": "7457dc5d-b878-4ddd-9302-4bef2587de7a"
      },
      "outputs": [],
      "source": [
        "print(pre.result(), re.result(), acc.result())"
      ]
    },
    {
      "cell_type": "markdown",
      "metadata": {
        "id": "za5Sg_FmwDOv"
      },
      "source": [
        "# 10. Testing"
      ]
    },
    {
      "cell_type": "code",
      "execution_count": null,
      "metadata": {
        "colab": {
          "base_uri": "https://localhost:8080/",
          "height": 367
        },
        "id": "GfoEdYF1wH03",
        "outputId": "904dad1e-ec4b-44c6-b020-69aabe0dffbe"
      },
      "outputs": [],
      "source": [
        "import cv2\n",
        "import requests\n",
        "import numpy as np\n",
        "import matplotlib.pyplot as plt\n",
        "\n",
        "# URL of the raw image from GitHub\n",
        "\n",
        "url = \"https://github.com/ThunderE75/CNN-ImageClassification/blob/2699669029524d58a111c7918b8fb7a2d8f7a1f1/test_image1.jpg\"\n",
        "\n",
        "# Download the image\n",
        "response = requests.get(url)\n",
        "\n",
        "if response.status_code == 200:  # Check if the request was successful\n",
        "    image_array = np.frombuffer(response.content, np.uint8)\n",
        "    img = cv2.imdecode(image_array, cv2.IMREAD_COLOR)\n",
        "\n",
        "    # Display the image\n",
        "    plt.imshow(cv2.cvtColor(img, cv2.COLOR_BGR2RGB))  # Convert BGR to RGB for matplotlib\n",
        "    plt.axis('off')  # Hide the axes\n",
        "    plt.show()\n",
        "else:\n",
        "    print(\"Error: Unable to download the image.\")\n"
      ]
    },
    {
      "cell_type": "code",
      "execution_count": null,
      "metadata": {
        "colab": {
          "base_uri": "https://localhost:8080/",
          "height": 435
        },
        "id": "kVWvJqQpwJR5",
        "outputId": "821820d7-bd97-44f6-ace7-9ee10d95b077"
      },
      "outputs": [],
      "source": [
        "resize = tf.image.resize(img, (256,256))\n",
        "plt.imshow(resize.numpy().astype(int))\n",
        "plt.show()"
      ]
    },
    {
      "cell_type": "code",
      "execution_count": null,
      "metadata": {
        "colab": {
          "base_uri": "https://localhost:8080/"
        },
        "id": "eahKzYMOwLdg",
        "outputId": "49f38d4c-77d9-4595-bca1-765f5be37748"
      },
      "outputs": [],
      "source": [
        "yhat = model.predict(np.expand_dims(resize/255, 0))"
      ]
    },
    {
      "cell_type": "code",
      "execution_count": null,
      "metadata": {
        "colab": {
          "base_uri": "https://localhost:8080/"
        },
        "id": "gAxwRy2v3MJ1",
        "outputId": "00f55f71-0b71-40d3-b340-581d9b568722"
      },
      "outputs": [],
      "source": [
        "yhat"
      ]
    },
    {
      "cell_type": "code",
      "execution_count": null,
      "metadata": {
        "colab": {
          "base_uri": "https://localhost:8080/"
        },
        "id": "Uqlac43T3OLE",
        "outputId": "8ce750a2-b63e-4c6c-9c57-4214c5d86474"
      },
      "outputs": [],
      "source": [
        "if yhat > 0.5:\n",
        "    print(f'Predicted class is Sad')\n",
        "else:\n",
        "    print(f'Predicted class is Happy')"
      ]
    },
    {
      "cell_type": "markdown",
      "metadata": {
        "id": "OI2Lp2O_3VeI"
      },
      "source": [
        "# 11. Save the Model"
      ]
    },
    {
      "cell_type": "code",
      "execution_count": 73,
      "metadata": {
        "id": "ufQeIT1V3Vy5"
      },
      "outputs": [],
      "source": [
        "from tensorflow.keras.models import load_model"
      ]
    },
    {
      "cell_type": "code",
      "execution_count": 80,
      "metadata": {
        "id": "6r2SuWsL3bDT"
      },
      "outputs": [],
      "source": [
        "model.save(os.path.join('models','imageclassifier.keras'))"
      ]
    },
    {
      "cell_type": "code",
      "execution_count": null,
      "metadata": {
        "colab": {
          "base_uri": "https://localhost:8080/"
        },
        "id": "n9WJBpbQ4jzG",
        "outputId": "f565296f-464c-4b80-993e-198a391def07"
      },
      "outputs": [],
      "source": [
        "import os\n",
        "import numpy as np\n",
        "from keras.models import load_model\n",
        "\n",
        "# Assuming the model is already loaded into a variable called `model`\n",
        "# Example code to load the model\n",
        "model_path = 'models/imageclassifier.keras'  # Adjust if necessary\n",
        "if os.path.isfile(model_path):\n",
        "    model = load_model(model_path)\n",
        "    print(\"Model loaded successfully!\")\n",
        "else:\n",
        "    print(f\"Error: The file '{model_path}' does not exist.\")\n",
        "\n",
        "# Assuming you have already resized the image (and it's stored in a variable called `resize`)\n",
        "# Make sure your image is preprocessed correctly (normalized, resized, etc.)\n",
        "# Example of predicting with the model\n",
        "prediction = model.predict(np.expand_dims(resize / 255.0, axis=0))\n",
        "\n",
        "# Print the prediction result\n",
        "print(\"Prediction:\", prediction)"
      ]
    }
  ],
  "metadata": {
    "colab": {
      "authorship_tag": "ABX9TyP2ypscfTKNi7peQZIb0Uuk",
      "include_colab_link": true,
      "mount_file_id": "19R7xUUPnm18Zq5pVF5Ewa6QdjmgEwHAY",
      "provenance": []
    },
    "kernelspec": {
      "display_name": "Python 3",
      "name": "python3"
    },
    "language_info": {
      "name": "python"
    }
  },
  "nbformat": 4,
  "nbformat_minor": 0
}
